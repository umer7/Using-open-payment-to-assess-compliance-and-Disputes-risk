{
 "cells": [
  {
   "cell_type": "markdown",
   "metadata": {},
   "source": [
    "library\n"
   ]
  },
  {
   "cell_type": "code",
   "execution_count": 1,
   "metadata": {
    "collapsed": true
   },
   "outputs": [],
   "source": [
    "import pymysql\n",
    "\n",
    "import pymysql.cursors"
   ]
  },
  {
   "cell_type": "code",
   "execution_count": 2,
   "metadata": {
    "collapsed": true
   },
   "outputs": [],
   "source": [
    "db=pymysql.connect(db='demo', user='root', passwd='umer', host='localhost', port=3307)\n",
    "                     \n",
    "cursor = db.cursor()\n",
    "cursor1 = db.cursor()\n"
   ]
  },
  {
   "cell_type": "markdown",
   "metadata": {},
   "source": [
    "# Queries\n"
   ]
  },
  {
   "cell_type": "code",
   "execution_count": 3,
   "metadata": {},
   "outputs": [
    {
     "name": "stdout",
     "output_type": "stream",
     "text": [
      "John  OR 97035 United States   Doctor of Optometry Eye and Vision Services Providers|Optometrist 165814318 2014 1.0 24090.0\n",
      "CRAIG W IN 46514 United States   Medical Doctor Allopathic & Osteopathic Physicians|Orthopaedic Surgery 163433150 2014 450000.0 564750.0\n",
      "Gregory  IN 46825 United States   Medical Doctor Allopathic & Osteopathic Physicians|Orthopaedic Surgery|Orthopaedic Surgery of the Spine 191615478 2014 91253.36 340905.21\n"
     ]
    }
   ],
   "source": [
    "cursor1.execute(\" select * from ownr14  where Dispute_Status_for_Publication= 'Yes'\")\n",
    "for row in cursor1.fetchall():\n",
    "    print (  row[2],row[3],row[9] ,row[10] , row[11],row[12],row[13],row[14],row[15] , row[16],row[17],row[18],row[19])\n",
    "   \n",
    "    \n",
    "\n"
   ]
  },
  {
   "cell_type": "code",
   "execution_count": 5,
   "metadata": {},
   "outputs": [
    {
     "name": "stdout",
     "output_type": "stream",
     "text": [
      "UNCHANGED RICHARD O GIUDICE \n",
      "UNCHANGED DOUGLAS A. CLARK \n",
      "UNCHANGED Nicole M Orr \n"
     ]
    }
   ],
   "source": [
    "cursor.execute(\" select * from ownr15  where Dispute_Status_for_Publication= 'Yes'\")\n",
    "for row in cursor.fetchall():\n",
    "    print (row[0] , row[1],row[2],row[3],row[4] )\n",
    "   \n",
    "    \n"
   ]
  },
  {
   "cell_type": "code",
   "execution_count": 6,
   "metadata": {},
   "outputs": [
    {
     "name": "stdout",
     "output_type": "stream",
     "text": [
      "NEW 218096 shawn  hennigan\n",
      "NEW 1260484 robert  limoni\n",
      "NEW 81653 NICOLE M ORR\n"
     ]
    }
   ],
   "source": [
    "cursor.execute(\" select * from ownr16  where Dispute_Status_for_Publication= 'Yes'\")\n",
    "for row in cursor.fetchall():\n",
    "    print (row[0] , row[1],row[2],row[3],row[4] )\n",
    "   \n",
    "    \n"
   ]
  },
  {
   "cell_type": "code",
   "execution_count": 22,
   "metadata": {},
   "outputs": [
    {
     "name": "stdout",
     "output_type": "stream",
     "text": [
      "George 156388338.2\n",
      "JOHN 25859206.8\n",
      "JEANNE 15360589.75\n",
      "Richard 7756313.9\n",
      "John 6718139.22\n",
      "GREGORY 5356086.4\n",
      "Arnold 4633661.34\n",
      "Robert 4257560.1\n",
      "William 3300000.0\n",
      "Frank 3249580.0\n"
     ]
    }
   ],
   "source": [
    "cursor.execute(\" select Physician_First_Name, Total_Amount_Invested_USDollars from ownr14  order  by Total_Amount_Invested_USDollars desc limit 10 ;\")\n",
    "for row in cursor.fetchall():\n",
    "    print (row[0] ,row[1] )\n",
    "   \n",
    "    \n",
    "\n",
    "\n",
    "\n"
   ]
  },
  {
   "cell_type": "code",
   "execution_count": 27,
   "metadata": {},
   "outputs": [
    {
     "name": "stdout",
     "output_type": "stream",
     "text": [
      "Summit Medical\n",
      "Vital Art and Science, LLC\n",
      "ESSENTIAL DENTAL SYSTEMS INCORPORATED\n",
      "Niveus Medical, Inc\n",
      "CorMatrix Cardiovascular Inc.\n",
      "Interventional Spine, Inc.\n",
      "The Orthopaedic Implant Company\n",
      "Atlas Spine, Inc.\n",
      "Xhale, Inc.\n",
      "Veniti, Inc.\n",
      "Benvenue Medical Inc\n",
      "Farallon Surgical, LLC\n",
      "AXOGEN\n",
      "Miromatrix Medical Inc.\n",
      "InControl Medical, LLC\n",
      "Synapse Biomedical Inc\n",
      "RSB Spine, LLC\n",
      "Novabone Products\n",
      "Alliqua  BioMedical, Inc.\n",
      "InterValve, Inc.\n",
      "ISTO TECHNOLOGIES, INC.\n",
      "Advanced Vertebral Solutions LLC\n",
      "Glaukos Corporation\n",
      "Spinal Modulation Inc.\n",
      "Halt Medical, INC\n",
      "Joint Active Systems, Inc.\n",
      "DFINE, INC\n",
      "Arthrosurface Incorporated\n",
      "LVB Acquisition, Inc.\n",
      "UroGPO LLC\n",
      "Beaver-Visitec International, Inc.\n",
      "Vector Surgical, LLC\n",
      "Skyline Medical Inc.\n",
      "Orthopedic Sciences, Inc.\n",
      "BIONESS INC\n",
      "TissueTech, Inc.\n",
      "VIEWRAY INC\n",
      "SNAP Diagnostics LLC\n",
      "Aptis Medical, LLC\n",
      "APPLIED MEDICAL TECHNOLOGY INC\n",
      "Metric Medical Devices, Inc.\n",
      "North Idaho Surgical Cooperative, LLC\n",
      "Domain Surgical, Inc.\n",
      "AMERICAN MEDICAL TECHNOLOGY INC\n",
      "Olive Medical Corporation\n",
      "NovoCure Limited\n",
      "Endogastric Solutions, Inc\n",
      "Siesta Medical, Inc.\n",
      "Vapotherm Inc\n",
      "CVRx, Inc.\n",
      "COGENT THERAPEUTICS LLC\n",
      "MRI Interventions, Inc.\n",
      "Physician Discoveries, LLC\n",
      "Devicor Medical Products, Inc.\n",
      "Pulmonx Corporation\n",
      "JustRight Surgical LLC\n",
      "NDI Medical, LLC\n",
      "Calvary Spine Products, LLC\n",
      "Rapid Pathogen Screening, Inc.\n",
      "Somersault Orthopedics, Inc\n",
      "Arizona Cryosurgical Partnership LP\n",
      "New England Cryotherapy LP\n",
      "Southeast Cryotherapy LP\n",
      "Mobile Cryosurgical Partners LP\n",
      "SEFL Cryo Associates LLC\n",
      "Rocky Mountain Cryotherapy LP\n",
      "Gulf States Cryotherapy LP\n",
      "Capitol Cryotherapy LP\n",
      "Intersect ENT, Inc.\n",
      "The North Carolina Mutual Wholesale Drug Company Inc\n",
      "Avinger Inc.\n",
      "Oklahoma Urologic Therapies LP\n",
      "Memphis Cryo Associates LP\n",
      "Safewire, LLC\n",
      "ConforMIS, Inc.\n",
      "DARA Biosciences, Inc.\n",
      "OrthoPediatrics Corp.\n",
      "Ironwood Pharmaceuticals, Inc\n",
      "BioHorizons Implant Systems Inc.\n",
      "Amedica Corporation\n",
      "ARGON MEDICAL DEVICES, INC.\n",
      "LDR HOLDING CORPORATION\n",
      "Zogenix Inc.\n",
      "Flowonix Medical Incorporated\n",
      "Evergreen Orthopedic Research Lab LLC\n",
      "EndoChoice, Inc.\n",
      "NeuroPace, Inc.\n",
      "Spineology Inc.\n",
      "Vertiflex, Inc.\n",
      "NeoTract Inc.\n",
      "Blue Belt Technologies, Inc.\n",
      "Merit Medical Systems Inc\n",
      "APOLLO ENDOSURGERY INC\n",
      "ABEON MEDICAL CORPORATION\n",
      "Alexza Pharmaceuticals, Inc.\n",
      "Wenzel Spine, Inc.\n",
      "Entellus Medical, Inc.\n",
      "Ablative Solutions, Inc.\n",
      "NovoSource, Inc.\n",
      "Blockade Medical, LLC\n",
      "Inland Surgical Products, LLC\n",
      "Blue Sky Bio, LLC\n",
      "Anesthetic Gas Reclamation, LLC\n",
      "Vista Orthopedics, LLC\n",
      "Alpine Implant Alliance, LLC\n",
      "Cosmedent, Inc.\n",
      "Paradigm Spine, LLC\n",
      "Highline Surgical Solutions, LLC\n",
      "CareFusion Corporation\n",
      "Providence Medical Technology, Inc.\n",
      "Bacterin International Inc\n",
      "Calvary Spine, LLC\n",
      "Millennium Spine, LLC\n",
      "Transcend Medical, Inc.\n",
      "SI-BONE, Inc.\n",
      "Paragon 28, Inc.\n",
      "Prosidyan, Inc\n",
      "DNE LLC\n",
      "Ultradent Products Inc\n",
      "Applied Medical Corporation\n",
      "Spine View, Inc.\n",
      "Actuated Medical, Inc.\n",
      "Saphena Medical, Inc.\n",
      "Innovative Medical Technologies, LLC\n",
      "Amphastar Pharmaceuticals, Inc.\n",
      "Amendia, Inc.\n",
      "OMNIlife science, Inc\n",
      "Cardiosolutions, Inc.\n",
      "OmniGuide, Inc.\n",
      "LENSAR, INC.\n",
      "Medline Industries, Inc.\n",
      "Tactile Systems Technology Inc\n",
      "Universal Medical, Inc.\n",
      "Braemar Manufacturing, LLC\n",
      "Spine Wave, Inc.\n",
      "Reverse Medical Corporation\n",
      "SONOCINE, INC.\n",
      "nContact Surgical, Inc\n",
      "Endologix, Inc.\n",
      "Vasc-Alert LLC\n",
      "Allotech, LLC\n",
      "Osteogenics Biomedical Inc.\n",
      "Convergent Dental Inc.\n",
      "Nutech Spine, Inc.\n",
      "OBI Biologics, Inc\n",
      "Romark Laboratories, LC\n",
      "Cryo Specialty Medical, LLC\n",
      "Medimetriks Pharmaceuticals, Inc.\n",
      "Vertebral Technologies, Inc.\n",
      "Transonic Systems Inc.\n",
      "Chek-Med Systems, Inc.\n",
      "Nanovis LLC\n",
      "Laser Specialty Medical, LLC\n",
      "ICU Medical Inc\n",
      "Zyga Technology Inc\n",
      "Centinel Spine, Inc.\n",
      "iRhythm Technologies, Inc.\n",
      "Roanoke Area Surgical Lasers, LLC\n",
      "Great Lakes Medical Services, LLC\n",
      "Universal Instrumentation LLC\n",
      "Cardiox Corporation\n",
      "Ellipse Technologies, Inc.\n",
      "Allergan Inc.\n",
      "Central California Surgical Distributors, LLC\n",
      "Ortho Restore, LLC\n",
      "Ozark Cryosurgery, LLC\n",
      "Wright Therapy Products, Inc.\n",
      "EndoEvolution, LLC\n",
      "Midwest Surgical Alliance, LLC\n",
      "Consensus Orthopedics, Inc.\n",
      "Mercator MedSystems, Inc.\n",
      "BioMedical Enterprises Inc\n",
      "Sequoia Surgical Distributors, LLC\n",
      "Sequent Medical, Inc.\n",
      "Braintree Laboratories, Inc.\n",
      "CBA Associates, LLC\n",
      "North Shore Surgical Services, LLC\n",
      "Hand Biomechanics Laboratory\n",
      "SynCardia Systems, Inc\n",
      "Senate Surgical Distribution, LLC\n",
      "Grace Medical, Inc.\n",
      "Eagle Vision, Inc.\n",
      "Beacon Endoscopic Corporation\n",
      "Advanced Biosolutions LLC\n",
      "Strategic Dentistry LLC\n",
      "Pursuit Vascular, Inc.\n",
      "Becton, Dickinson and Company\n",
      "New Wave Surgical Corp.\n",
      "HET Systems LLC\n",
      "Southern Surgical Solutions, LLC\n",
      "SpineSelect, LLC\n",
      "CCPA Purchasing Partners, L.P.\n",
      "ORTHOSENSOR INC.\n",
      "RT Oncology Services Corporation\n",
      "OsteoReady LLC\n",
      "Sensus Healthcare LLC\n",
      "SonaCare Medical, LLC\n",
      "Curax Scientific LLC\n",
      "Advanced Circulatory Systems Inc.\n",
      "Great Plains Surgical Distributors, LLC\n",
      "TriReme Medical LLC\n",
      "Keystone Dental Inc.\n",
      "iCAD, Inc\n",
      "Westpac Partners, LP\n",
      "CeloNova BioSciences, Inc.\n",
      "North Texas Surgical Services, LLC\n",
      "Central Dallas Surgical Supply, LLC\n",
      "North Alabama Surgical Services, LLC\n",
      "San Francisco Surgical Services, LLC\n",
      "North Alabama Surgical Services GP, LLC\n",
      "Fort Worth Surgical Supply, LLC\n",
      "Penumbra, Inc.\n",
      "Radlink, Inc\n",
      "EKOS Corporation\n",
      "US WORLDMEDS, LLC\n",
      "Vivex Biomedical, Inc.\n",
      "Verthermia, Inc.\n",
      "Wound Care Technologies, Inc.\n",
      "Georgia Cryotherapy LP\n",
      "Central Florida Cryo Partners LP\n",
      "Midwest Cryotherapy LP\n",
      "Northeast Cryotherapy LP\n",
      "Renovis Surgical Technologies, Inc.\n",
      "Nashville Surgical Instruments LLC\n",
      "Advanced Fusion, LLC\n",
      "US Medical Innovations LLC\n",
      "Optim LLC\n",
      "Aptus Endosystems, Inc.\n",
      "West Coast Cryotherapy LP\n",
      "Topera, Inc.\n",
      "Tri-State Cryosurgical Partnerships LP\n",
      "Cepheid\n",
      "Illinois Cryotherapy LP\n",
      "SPINEFRONTIER, INC.\n",
      "Kansas Cryosurgery Associates LLC\n",
      "Michigan Mobile Urology Services LLC\n",
      "Dallas-Addison Surgical Supply, LLC\n",
      "Ortho Kinematics, Inc.\n",
      "Atlantic Coast Cryotherapy LP\n",
      "Neovasc Medical Inc\n",
      "Leading Edge Spinal Implants LLC\n",
      "Midmark Corporation\n",
      "Synergy Integrated Medical Solutions LLC\n",
      "Advanced Joint Solutions, LLC\n",
      "4WEB, Inc.\n",
      "SPINECRAFT, LLC\n",
      "EndoShape Inc\n",
      "Collaborative Care Diagnostics, LLC\n",
      "Precision Spine, Inc.\n",
      "Aquesys, Inc.\n",
      "Arteriocyte Medical Systems, Inc.\n",
      "Extremity Medical\n",
      "Nextremity Solutions Inc.\n",
      "Cardinal Spine, LLC\n",
      "Innovation Technologies Inc\n",
      "Cayenne Medical, Inc.\n",
      "Kalitec Direct LLC\n",
      "Kobold, LLC\n"
     ]
    }
   ],
   "source": [
    "cursor.execute(\"select distinct(Applicable_Manufacturer_or_Applicable_GPO_Making_Payment_Name)   from ownr14  ; \")\n",
    "for row in cursor.fetchall():\n",
    "    print (row[0]  )\n",
    "   \n",
    "    \n",
    "\n",
    "\n"
   ]
  },
  {
   "cell_type": "code",
   "execution_count": 54,
   "metadata": {},
   "outputs": [
    {
     "name": "stdout",
     "output_type": "stream",
     "text": [
      "ICU Medical Inc 156388338.2\n",
      "Avinger Inc. 25859206.8\n",
      "NovoCure Limited 15360589.75\n",
      "ICU Medical Inc 7756313.9\n",
      "Renovis Surgical Technologies, Inc. 6718139.22\n",
      "Avinger Inc. 5356086.4\n",
      "Vertebral Technologies, Inc. 4633661.34\n",
      "ICU Medical Inc 4257560.1\n",
      "Vapotherm Inc 3300000.0\n",
      "Chek-Med Systems, Inc. 3249580.0\n"
     ]
    }
   ],
   "source": [
    "cursor.execute(\"select distinct(Applicable_Manufacturer_or_Applicable_GPO_Making_Payment_Name) ,Total_Amount_Invested_USDollars  from ownr14  order  by Total_Amount_Invested_USDollars desc limit 10 \")\n",
    "for row in cursor.fetchall():\n",
    "    print (row[0] ,row[1] )\n",
    "   \n",
    "    \n",
    "\n",
    "    \n",
    "\n"
   ]
  },
  {
   "cell_type": "code",
   "execution_count": 28,
   "metadata": {
    "scrolled": true
   },
   "outputs": [
    {
     "name": "stdout",
     "output_type": "stream",
     "text": [
      "Xhale, Inc. Mark 634332.0\n",
      "Xhale, Inc. Gregory 368453.0\n",
      "Xhale, Inc. Mark 313031.0\n",
      "Xhale, Inc. William 297393.0\n",
      "Xhale, Inc. Nikolaus 279599.0\n",
      "Xhale, Inc. N 250000.0\n",
      "Xhale, Inc. Robert 250000.0\n",
      "Xhale, Inc. Christian 250000.0\n",
      "Xhale, Inc. Marc 250000.0\n",
      "Xhale, Inc. Dennis 100000.0\n"
     ]
    }
   ],
   "source": [
    "cursor.execute(\"select Applicable_Manufacturer_or_Applicable_GPO_Making_Payment_Name ,Physician_First_Name,Total_Amount_Invested_USDollars  from ownr14  where Applicable_Manufacturer_or_Applicable_GPO_Making_Payment_Name ='Xhale, Inc.'order  by Total_Amount_Invested_USDollars desc limit 10 ;\")\n",
    "for row in cursor.fetchall():\n",
    "    print (row[0] ,row[1], row[2] )\n",
    "   \n",
    "    \n",
    "\n",
    "    \n",
    "\n",
    "\n"
   ]
  },
  {
   "cell_type": "code",
   "execution_count": 29,
   "metadata": {},
   "outputs": [
    {
     "name": "stdout",
     "output_type": "stream",
     "text": [
      "Zyga Technology Inc Mark 0.01\n",
      "Zogenix Inc. JAMES 31980.19\n",
      "Xhale, Inc. Nikolaus 279599.0\n",
      "Wright Therapy Products, Inc. William 250007.3\n",
      "Wound Care Technologies, Inc. Robert 20000.0\n",
      "Westpac Partners, LP Ghassan 50000.0\n",
      "West Coast Cryotherapy LP HENRY 3420.9\n",
      "Wenzel Spine, Inc. Thomas 50.0\n",
      "Vivex Biomedical, Inc. Ashish 101000.0\n",
      "Vital Art and Science, LLC Yu-Guang 10000.0\n",
      "Vista Orthopedics, LLC John 1655.69\n",
      "VIEWRAY INC GERALD 628227.51\n",
      "Vertiflex, Inc. Rob 5562.5\n",
      "Verthermia, Inc. James 495.0\n",
      "Vertebral Technologies, Inc. Kenneth 281.8\n",
      "Veniti, Inc. Seshadri 6990.0\n",
      "Vector Surgical, LLC Michael 65000.0\n",
      "Vasc-Alert LLC Michael 150000.0\n",
      "Vapotherm Inc William 1200000.0\n",
      "US WORLDMEDS, LLC Gregory 99000.0\n",
      "US Medical Innovations LLC Jerome 100000.0\n",
      "UroGPO LLC Andrew 2000.0\n",
      "Universal Medical, Inc. Robert 27934.0\n",
      "Universal Instrumentation LLC Francisco 81892.0\n",
      "Ultradent Products Inc DAN 1000.0\n",
      "TriReme Medical LLC Robert 190329.86\n",
      "Tri-State Cryosurgical Partnerships LP DAVID 3602.88\n",
      "Transonic Systems Inc. lawrence 6084.0\n",
      "Transcend Medical, Inc. Eugene 1062.5\n",
      "Topera, Inc. Patrick 103010.44\n",
      "TissueTech, Inc. John 1.0\n",
      "The Orthopaedic Implant Company Krishna 25000.0\n",
      "The North Carolina Mutual Wholesale Drug Company Inc Jill 70488.0\n",
      "Tactile Systems Technology Inc James 163930.66\n",
      "Synergy Integrated Medical Solutions LLC Christopher 80.0\n",
      "SynCardia Systems, Inc DAVID 249999.84\n",
      "Synapse Biomedical Inc Raymond 0.0\n",
      "Summit Medical Stephen 240964.0\n",
      "Strategic Dentistry LLC Michael 275000.0\n",
      "SpineSelect, LLC Dennis 0.01\n",
      "Spineology Inc. Alexander 25000.0\n",
      "SPINEFRONTIER, INC. Kingsley 1000.0\n",
      "SPINECRAFT, LLC STEVEN 300000.0\n",
      "Spine Wave, Inc. William 500.0\n",
      "Spine View, Inc. Thomas 44000.0\n",
      "Spinal Modulation Inc. Eric 8625.0\n",
      "Southern Surgical Solutions, LLC John 6628.77\n",
      "Southeast Cryotherapy LP SCOTT 43808.0\n",
      "SONOCINE, INC. DAVID 100001.0\n",
      "SonaCare Medical, LLC Vikas 12305.0\n",
      "Somersault Orthopedics, Inc Joseph 50000.0\n",
      "SNAP Diagnostics LLC Charles 130248.83\n",
      "Skyline Medical Inc. Samuel 50000.0\n",
      "Siesta Medical, Inc. Ethan 0.01\n",
      "SI-BONE, Inc. Neel 635.0\n",
      "Sequoia Surgical Distributors, LLC James 1260.8\n",
      "Sequent Medical, Inc. Jacques 3000.0\n",
      "Sensus Healthcare LLC Richard 100000.0\n",
      "Senate Surgical Distribution, LLC Kenneth 9581.69\n",
      "SEFL Cryo Associates LLC DARWICH 15644.0\n",
      "Saphena Medical, Inc. Alexandros 25000.0\n",
      "San Francisco Surgical Services, LLC Paul 30000.0\n",
      "Safewire, LLC Robert 20000.0\n",
      "RT Oncology Services Corporation CARLOS 14058.58\n",
      "RSB Spine, LLC MARSHALL 25000.0\n",
      "Romark Laboratories, LC Richard 91200.0\n",
      "Rocky Mountain Cryotherapy LP STACY 51462.5\n",
      "Roanoke Area Surgical Lasers, LLC CHRISTOPHER 10000.0\n",
      "Reverse Medical Corporation John 0.0\n",
      "Renovis Surgical Technologies, Inc. Kenneth 211509.86\n",
      "Rapid Pathogen Screening, Inc. Steven 49950.0\n",
      "Radlink, Inc Joel 450000.0\n",
      "Pursuit Vascular, Inc. Robert 62400.0\n",
      "Pulmonx Corporation Ali 31200.0\n",
      "Providence Medical Technology, Inc. Donald 50000.0\n",
      "Prosidyan, Inc Ben 50000.0\n",
      "Precision Spine, Inc. Carmine 0.0\n",
      "Physician Discoveries, LLC Julian 7457.0\n",
      "Penumbra, Inc. Donald 73360.0\n",
      "Paragon 28, Inc. Michael 250000.0\n",
      "Paradigm Spine, LLC JACK 102152.0\n",
      "Ozark Cryosurgery, LLC JOSEPH 10100.0\n",
      "OsteoReady LLC BRADFORD 890000.0\n",
      "Osteogenics Biomedical Inc. BARRY 1.0\n",
      "ORTHOSENSOR INC. THOMAS 200000.0\n",
      "Orthopedic Sciences, Inc. Allen 10.0\n",
      "OrthoPediatrics Corp. Salil 200096.0\n",
      "Ortho Restore, LLC Anant 4805.67\n",
      "Ortho Kinematics, Inc. Nelson 7875.0\n",
      "Optim LLC Michael 1.0\n",
      "OMNIlife science, Inc Orderia 50050.0\n",
      "OmniGuide, Inc. Stanley 2250.0\n",
      "Olive Medical Corporation SARAH 19547.5\n",
      "Oklahoma Urologic Therapies LP MOUNIR 54000.0\n",
      "OBI Biologics, Inc BARRY 1.0\n",
      "Nutech Spine, Inc. ROBERT 50000.0\n",
      "NovoSource, Inc. Joseph 50000.0\n",
      "NovoCure Limited WILLIAM 99948.22\n",
      "Novabone Products Craig 119997.35\n",
      "Northeast Cryotherapy LP LAWRENCE 841.6\n",
      "North Texas Surgical Services, LLC William 32000.0\n",
      "North Shore Surgical Services, LLC Lori 30000.0\n",
      "North Idaho Surgical Cooperative, LLC Thomas 1346.0\n",
      "North Alabama Surgical Services, LLC Jason 40000.0\n",
      "North Alabama Surgical Services GP, LLC Jason 10000.0\n",
      "Niveus Medical, Inc Vikram 20000.0\n",
      "Nextremity Solutions Inc. Lon 993924.0\n",
      "New Wave Surgical Corp. Alfons 0.0\n",
      "New England Cryotherapy LP BHALCHAND 9900.0\n",
      "NeuroPace, Inc. LAWRENCE 1500.0\n",
      "Neovasc Medical Inc Elazer 0.01\n",
      "NeoTract Inc. Steven 96450.0\n",
      "NDI Medical, LLC Michael 251515.0\n",
      "nContact Surgical, Inc JAISHANKAR 0.1\n",
      "Nashville Surgical Instruments LLC Sarbjeet 50000.0\n",
      "Nanovis LLC John 100000.0\n",
      "MRI Interventions, Inc. William 10000.0\n",
      "Mobile Cryosurgical Partners LP ALAN 9805.0\n",
      "Miromatrix Medical Inc. Suzanne 26980.0\n",
      "Millennium Spine, LLC Clayton 336783.0\n",
      "Midwest Surgical Alliance, LLC Matthew 118093.88\n",
      "Midwest Cryotherapy LP STEPHEN 11222.0\n",
      "Midmark Corporation Robert 57073.0\n",
      "Michigan Mobile Urology Services LLC JONATHAN 5260.0\n",
      "Metric Medical Devices, Inc. Lawrence 25000.0\n",
      "Merit Medical Systems Inc Michael 481392.74\n",
      "Mercator MedSystems, Inc. Bruce 614996.38\n",
      "Memphis Cryo Associates LP WILLIAM 18800.0\n",
      "Medline Industries, Inc. Martin 721421.62\n",
      "Medimetriks Pharmaceuticals, Inc. James 25000.2\n",
      "LVB Acquisition, Inc. DOUGLAS 1125000.0\n",
      "LENSAR, INC. John 187500.0\n",
      "Leading Edge Spinal Implants LLC Alan 100000.0\n",
      "LDR HOLDING CORPORATION Vincent 12499.32\n",
      "Laser Specialty Medical, LLC DAVID 11422.81\n",
      "Kobold, LLC Robert 101667.0\n",
      "Keystone Dental Inc. BRIAN 948131.0\n",
      "Kansas Cryosurgery Associates LLC MARK 6000.0\n",
      "Kalitec Direct LLC Geoffrey 0.0\n",
      "JustRight Surgical LLC George 225836.0\n",
      "Joint Active Systems, Inc. Peter 514199.68\n",
      "ISTO TECHNOLOGIES, INC. RICHARD 121904.0\n",
      "Ironwood Pharmaceuticals, Inc PERRY 7800.0\n",
      "iRhythm Technologies, Inc. Jay 114425.87\n",
      "Interventional Spine, Inc. William 68949.1\n",
      "InterValve, Inc. Wesley 800481.0\n",
      "Intersect ENT, Inc. Andrew 5775.0\n",
      "Innovative Medical Technologies, LLC JOHN 328.74\n",
      "Innovation Technologies Inc Perin 0.0\n",
      "Inland Surgical Products, LLC Gail 309346.9\n",
      "InControl Medical, LLC Jose 1.0\n",
      "Illinois Cryotherapy LP JOHN 20925.0\n",
      "ICU Medical Inc Michael 2142635.77\n",
      "iCAD, Inc ROBERT 0.01\n",
      "Highline Surgical Solutions, LLC Robert 9600.0\n",
      "HET Systems LLC Mehmet 0.0\n",
      "Hand Biomechanics Laboratory John 48033.0\n",
      "Halt Medical, INC Gordon 50000.0\n",
      "Gulf States Cryotherapy LP STEPHANIE 14256.0\n",
      "Great Plains Surgical Distributors, LLC Michael 10500.0\n",
      "Great Lakes Medical Services, LLC RICHARD 10000.0\n",
      "Grace Medical, Inc. JERRE 1048992.0\n",
      "Glaukos Corporation JAMES 500.0\n",
      "Georgia Cryotherapy LP THOMAS 4832.85\n",
      "Fort Worth Surgical Supply, LLC Brent 50000.0\n",
      "Flowonix Medical Incorporated Steven 90000.0\n",
      "Farallon Surgical, LLC Kevin 15000.0\n",
      "Extremity Medical Justin 0.0\n",
      "Evergreen Orthopedic Research Lab LLC Craig 164461.8\n",
      "ESSENTIAL DENTAL SYSTEMS INCORPORATED Allan 1548471.0\n",
      "Entellus Medical, Inc. DAVID 2852.0\n",
      "EndoShape Inc Dennis 75408.85\n",
      "Endologix, Inc. GARY 205950.0\n",
      "Endogastric Solutions, Inc Spencer 24999.69\n",
      "EndoEvolution, LLC Randall 36.0\n",
      "EndoChoice, Inc. Joel 0.0\n",
      "Ellipse Technologies, Inc. Atul 1200.0\n",
      "EKOS Corporation THOMAS 1067.7\n",
      "Eagle Vision, Inc. JERRE 1048992.0\n",
      "Domain Surgical, Inc. Richard 0.01\n",
      "DNE LLC Thomas 150000.0\n",
      "DFINE, INC JONGSOO 30900.0\n",
      "Devicor Medical Products, Inc. STEPHEN 1.0\n",
      "DARA Biosciences, Inc. TONY 0.0\n",
      "Dallas-Addison Surgical Supply, LLC Craig 40000.0\n",
      "CVRx, Inc. TERESE 52851.0\n",
      "Curax Scientific LLC Constantine 25000.0\n",
      "Cryo Specialty Medical, LLC KEVIN 38154.91\n",
      "Cosmedent, Inc. K 500.0\n",
      "CorMatrix Cardiovascular Inc. Clifton 0.0\n",
      "Convergent Dental Inc. Arnold 152500.0\n",
      "Consensus Orthopedics, Inc. Bert 0.0\n",
      "ConforMIS, Inc. Donald 75000.0\n",
      "Collaborative Care Diagnostics, LLC Thomas 12500.0\n",
      "COGENT THERAPEUTICS LLC KEITH 0.01\n",
      "Chek-Med Systems, Inc. Frank 3249580.0\n",
      "Cepheid Glenn 577258.16\n",
      "Central Florida Cryo Partners LP FAIYAAZ 7543.62\n",
      "Central Dallas Surgical Supply, LLC Jon 25000.0\n",
      "Central California Surgical Distributors, LLC John 1772.15\n",
      "Centinel Spine, Inc. ANDREW 0.0\n",
      "CeloNova BioSciences, Inc. Nelson 1.0\n",
      "CCPA Purchasing Partners, L.P. Geeti 100.0\n",
      "CBA Associates, LLC Thomas 196757.0\n",
      "Cayenne Medical, Inc. JAMES 0.0\n",
      "CareFusion Corporation EDWARD 0.01\n",
      "Cardiox Corporation Bryan 10244.0\n",
      "Cardiosolutions, Inc. John 5.0\n",
      "Cardinal Spine, LLC William 25000.0\n",
      "Capitol Cryotherapy LP JEFF 45000.0\n",
      "Calvary Spine, LLC Charles 467168.0\n",
      "Calvary Spine Products, LLC Charles 37500.0\n",
      "Braintree Laboratories, Inc. Elizabeth 22804.0\n",
      "Braemar Manufacturing, LLC Robert 110892.0\n",
      "Blue Sky Bio, LLC Sheldon 25000.0\n",
      "Blue Belt Technologies, Inc. Robert 0.0\n",
      "Blockade Medical, LLC Demetrius 50000.0\n",
      "BIONESS INC Timothy 434.08\n",
      "BioMedical Enterprises Inc BRYAN 50000.0\n",
      "BioHorizons Implant Systems Inc. Edward 75735.0\n",
      "Benvenue Medical Inc KEN 26562.9\n",
      "Becton, Dickinson and Company ADEL 844769.64\n",
      "Beaver-Visitec International, Inc. William 181592.0\n",
      "Beacon Endoscopic Corporation Benjamin 46242.42\n",
      "Bacterin International Inc Harold 8547.6\n",
      "AXOGEN MARK 38970.0\n",
      "Avinger Inc. JOHN 449997.68\n",
      "Atlas Spine, Inc. Chester 50000.0\n",
      "Atlantic Coast Cryotherapy LP SAMIR 13000.0\n",
      "Arthrosurface Incorporated LAWRENCE 1.0\n",
      "Arteriocyte Medical Systems, Inc. Vincent 3000.0\n",
      "Arizona Cryosurgical Partnership LP PRATIK 52000.0\n",
      "ARGON MEDICAL DEVICES, INC. WILLIAM 1604000.0\n",
      "Aquesys, Inc. Sandra 2.5\n",
      "Aptus Endosystems, Inc. David 0.0\n",
      "Aptis Medical, LLC Luis 500000.0\n",
      "APPLIED MEDICAL TECHNOLOGY INC Brad 193954.75\n",
      "Applied Medical Corporation JOSE 144321.0\n",
      "APOLLO ENDOSURGERY INC ROBERT 0.0\n",
      "Anesthetic Gas Reclamation, LLC Jason 40000.0\n",
      "Amphastar Pharmaceuticals, Inc. Jeffrey 267767.52\n",
      "AMERICAN MEDICAL TECHNOLOGY INC Brad 19500.0\n",
      "Amendia, Inc. Michael 75000.0\n",
      "Amedica Corporation ERIC 52500.0\n",
      "Alpine Implant Alliance, LLC James 1497.2\n",
      "Allotech, LLC BARRY 1.0\n",
      "Alliqua  BioMedical, Inc. Stephen 118300.0\n",
      "Allergan Inc. PETER 415634.0\n",
      "Alexza Pharmaceuticals, Inc. John 0.01\n",
      "Advanced Vertebral Solutions LLC Randal 1.0\n",
      "Advanced Joint Solutions, LLC David 350253.0\n",
      "Advanced Fusion, LLC M 320.0\n",
      "Advanced Circulatory Systems Inc. Michael 1.0\n",
      "Advanced Biosolutions LLC Shawn 80000.0\n",
      "Actuated Medical, Inc. Kevin 0.01\n",
      "Ablative Solutions, Inc. Malcolm 24998.05\n",
      "ABEON MEDICAL CORPORATION BRAD 440000.0\n",
      "4WEB, Inc. KEITH 100000.0\n"
     ]
    }
   ],
   "source": [
    "cursor.execute(\"select Applicable_Manufacturer_or_Applicable_GPO_Making_Payment_Name ,Physician_First_Name,Total_Amount_Invested_USDollars from ownr14  group by   Applicable_Manufacturer_or_Applicable_GPO_Making_Payment_Name  desc   ;\")\n",
    "for row in cursor.fetchall():\n",
    "    print (row[0] ,row[1], row[2] )\n",
    "   \n",
    "    \n",
    "\n",
    "    "
   ]
  },
  {
   "cell_type": "markdown",
   "metadata": {},
   "source": [
    "top companies w.r.t to disputes\n"
   ]
  },
  {
   "cell_type": "code",
   "execution_count": 56,
   "metadata": {
    "scrolled": true
   },
   "outputs": [
    {
     "name": "stdout",
     "output_type": "stream",
     "text": [
      "John TissueTech, Inc. Yes\n",
      "CRAIG LVB Acquisition, Inc. Yes\n",
      "Gregory Nanovis LLC Yes\n"
     ]
    }
   ],
   "source": [
    "cursor.execute(\"select Physician_First_Name,Applicable_Manufacturer_or_Applicable_GPO_Making_Payment_Name ,Dispute_Status_for_Publication  from ownr14  where Dispute_Status_for_Publication='YES' ;\")\n",
    "for row in cursor.fetchall():\n",
    "    print (row[0] ,row[1], row[2] )\n",
    "   \n"
   ]
  },
  {
   "cell_type": "markdown",
   "metadata": {},
   "source": [
    "# All three years combine"
   ]
  },
  {
   "cell_type": "code",
   "execution_count": 3,
   "metadata": {},
   "outputs": [
    {
     "ename": "NameError",
     "evalue": "name 'np' is not defined",
     "output_type": "error",
     "traceback": [
      "\u001b[1;31m---------------------------------------------------------------------------\u001b[0m",
      "\u001b[1;31mNameError\u001b[0m                                 Traceback (most recent call last)",
      "\u001b[1;32m<ipython-input-3-554d71212c40>\u001b[0m in \u001b[0;36m<module>\u001b[1;34m()\u001b[0m\n\u001b[1;32m----> 1\u001b[1;33m \u001b[0mz\u001b[0m\u001b[1;33m=\u001b[0m\u001b[0mnp\u001b[0m\u001b[1;33m.\u001b[0m\u001b[0marray\u001b[0m\u001b[1;33m(\u001b[0m\u001b[1;33m[\u001b[0m\u001b[1;33m]\u001b[0m\u001b[1;33m)\u001b[0m\u001b[1;33m\u001b[0m\u001b[0m\n\u001b[0m\u001b[0;32m      2\u001b[0m \u001b[0mcount\u001b[0m \u001b[1;33m=\u001b[0m \u001b[1;36m0\u001b[0m\u001b[1;33m\u001b[0m\u001b[0m\n\u001b[0;32m      3\u001b[0m \u001b[0mcursor\u001b[0m\u001b[1;33m.\u001b[0m\u001b[0mexecute\u001b[0m\u001b[1;33m(\u001b[0m\u001b[1;34m\"select Applicable_Manufacturer_or_Applicable_GPO_Making_Payment_Name ,Physician_First_Name,Dispute_Status_for_Publication  ,Recipient_State , Program_Year ,Total_Amount_Invested_USDollars from ownr16  where Dispute_Status_for_Publication='YES' union select Applicable_Manufacturer_or_Applicable_GPO_Making_Payment_Name ,Physician_First_Name,Dispute_Status_for_Publication  ,Recipient_State , Program_Year ,Total_Amount_Invested_USDollars from ownr15  where Dispute_Status_for_Publication='YES'  union select Applicable_Manufacturer_or_Applicable_GPO_Making_Payment_Name ,Physician_First_Name,Dispute_Status_for_Publication  ,Recipient_State , Program_Year, Total_Amount_Invested_USDollars from ownr14  where Dispute_Status_for_Publication='YES' ;\"\u001b[0m\u001b[1;33m)\u001b[0m\u001b[1;33m\u001b[0m\u001b[0m\n\u001b[0;32m      4\u001b[0m \u001b[1;32mfor\u001b[0m \u001b[0mrow\u001b[0m \u001b[1;32min\u001b[0m \u001b[0mcursor\u001b[0m\u001b[1;33m.\u001b[0m\u001b[0mfetchall\u001b[0m\u001b[1;33m(\u001b[0m\u001b[1;33m)\u001b[0m\u001b[1;33m:\u001b[0m\u001b[1;33m\u001b[0m\u001b[0m\n\u001b[0;32m      5\u001b[0m     \u001b[0mprint\u001b[0m \u001b[1;33m(\u001b[0m\u001b[1;34m'\\n'\u001b[0m\u001b[1;33m)\u001b[0m\u001b[1;33m\u001b[0m\u001b[0m\n",
      "\u001b[1;31mNameError\u001b[0m: name 'np' is not defined"
     ]
    }
   ],
   "source": [
    "z=np.array([])\n",
    "count = 0\n",
    "cursor.execute(\"select Applicable_Manufacturer_or_Applicable_GPO_Making_Payment_Name ,Physician_First_Name,Dispute_Status_for_Publication  ,Recipient_State , Program_Year ,Total_Amount_Invested_USDollars from ownr16  where Dispute_Status_for_Publication='YES' union select Applicable_Manufacturer_or_Applicable_GPO_Making_Payment_Name ,Physician_First_Name,Dispute_Status_for_Publication  ,Recipient_State , Program_Year ,Total_Amount_Invested_USDollars from ownr15  where Dispute_Status_for_Publication='YES'  union select Applicable_Manufacturer_or_Applicable_GPO_Making_Payment_Name ,Physician_First_Name,Dispute_Status_for_Publication  ,Recipient_State , Program_Year, Total_Amount_Invested_USDollars from ownr14  where Dispute_Status_for_Publication='YES' ;\")\n",
    "for row in cursor.fetchall():\n",
    "    print ('\\n')\n",
    "    print (row[0] + '\\t' + row[1]+ '\\t' + row[2] + '\\t' + row[3] ,row[4], row[5] )\n",
    "    z=row[5]\n",
    "    count+=1\n",
    "print(count)    \n",
    "print(z)"
   ]
  },
  {
   "cell_type": "code",
   "execution_count": 5,
   "metadata": {},
   "outputs": [
    {
     "name": "stdout",
     "output_type": "stream",
     "text": [
      "\n",
      "\n",
      "Parcus Medical, LLC\tshawn\tYes\tWI 2016 200000.0\n",
      "\n",
      "\n",
      "Parcus Medical, LLC\trobert\tYes\tWI 2016 200000.0\n",
      "\n",
      "\n",
      "Braintree Laboratories, Inc.\tNICOLE\tYes\tNY 2016 23232.0\n",
      "\n",
      "\n",
      "RT Oncology Services Corporation\tRICHARD\tYes\tNM 2015 78960.0\n",
      "\n",
      "\n",
      "RT Oncology Services Corporation\tDOUGLAS\tYes\tNM 2015 80700.0\n",
      "\n",
      "\n",
      "Braintree Laboratories, Inc.\tNicole\tYes\tNY 2015 23232.0\n",
      "\n",
      "\n",
      "TissueTech, Inc.\tJohn\tYes\tOR 2014 1.0\n",
      "\n",
      "\n",
      "LVB Acquisition, Inc.\tCRAIG\tYes\tIN 2014 450000.0\n",
      "\n",
      "\n",
      "Nanovis LLC\tGregory\tYes\tIN 2014 91253.36\n"
     ]
    }
   ],
   "source": [
    "\n",
    "count = 0\n",
    "cursor.execute(\"select Applicable_Manufacturer_or_Applicable_GPO_Making_Payment_Name ,Physician_First_Name,Dispute_Status_for_Publication  ,Recipient_State , Program_Year ,Total_Amount_Invested_USDollars from ownr16  where Dispute_Status_for_Publication='YES' union select Applicable_Manufacturer_or_Applicable_GPO_Making_Payment_Name ,Physician_First_Name,Dispute_Status_for_Publication  ,Recipient_State , Program_Year ,Total_Amount_Invested_USDollars from ownr15  where Dispute_Status_for_Publication='YES'  union select Applicable_Manufacturer_or_Applicable_GPO_Making_Payment_Name ,Physician_First_Name,Dispute_Status_for_Publication  ,Recipient_State , Program_Year, Total_Amount_Invested_USDollars from ownr14  where Dispute_Status_for_Publication='YES' ;\")\n",
    "for row in cursor.fetchall():\n",
    "    print ('\\n')\n",
    "    print (row[0] + '\\t' + row[1]+ '\\t' + row[2] + '\\t' + row[3] ,row[4], row[5] )\n",
    "    "
   ]
  },
  {
   "cell_type": "markdown",
   "metadata": {},
   "source": [
    "# Linear Model "
   ]
  },
  {
   "cell_type": "code",
   "execution_count": 35,
   "metadata": {},
   "outputs": [
    {
     "ename": "NotFittedError",
     "evalue": "This LinearRegression instance is not fitted yet. Call 'fit' with appropriate arguments before using this method.",
     "output_type": "error",
     "traceback": [
      "\u001b[1;31m---------------------------------------------------------------------------\u001b[0m",
      "\u001b[1;31mNotFittedError\u001b[0m                            Traceback (most recent call last)",
      "\u001b[1;32m<ipython-input-35-d51109f202fa>\u001b[0m in \u001b[0;36m<module>\u001b[1;34m()\u001b[0m\n\u001b[0;32m      3\u001b[0m \u001b[1;32mimport\u001b[0m \u001b[0mnumpy\u001b[0m \u001b[1;32mas\u001b[0m \u001b[0mnp\u001b[0m\u001b[1;33m\u001b[0m\u001b[0m\n\u001b[0;32m      4\u001b[0m \u001b[0mregr\u001b[0m\u001b[1;33m=\u001b[0m\u001b[0mlinear_model\u001b[0m\u001b[1;33m.\u001b[0m\u001b[0mLinearRegression\u001b[0m\u001b[1;33m(\u001b[0m\u001b[1;33m)\u001b[0m\u001b[1;33m\u001b[0m\u001b[0m\n\u001b[1;32m----> 5\u001b[1;33m \u001b[0mregr\u001b[0m\u001b[1;33m.\u001b[0m\u001b[0mpredict\u001b[0m\u001b[1;33m(\u001b[0m\u001b[1;33m[\u001b[0m\u001b[1;33m[\u001b[0m\u001b[1;36m1\u001b[0m\u001b[1;33m,\u001b[0m\u001b[1;36m2\u001b[0m\u001b[1;33m]\u001b[0m\u001b[1;33m,\u001b[0m \u001b[1;33m[\u001b[0m\u001b[1;36m3\u001b[0m\u001b[1;33m,\u001b[0m\u001b[1;36m4\u001b[0m\u001b[1;33m]\u001b[0m\u001b[1;33m]\u001b[0m\u001b[1;33m)\u001b[0m\u001b[1;33m\u001b[0m\u001b[0m\n\u001b[0m",
      "\u001b[1;32mC:\\ProgramData\\Anaconda3\\lib\\site-packages\\sklearn\\linear_model\\base.py\u001b[0m in \u001b[0;36mpredict\u001b[1;34m(self, X)\u001b[0m\n\u001b[0;32m    266\u001b[0m             \u001b[0mReturns\u001b[0m \u001b[0mpredicted\u001b[0m \u001b[0mvalues\u001b[0m\u001b[1;33m.\u001b[0m\u001b[1;33m\u001b[0m\u001b[0m\n\u001b[0;32m    267\u001b[0m         \"\"\"\n\u001b[1;32m--> 268\u001b[1;33m         \u001b[1;32mreturn\u001b[0m \u001b[0mself\u001b[0m\u001b[1;33m.\u001b[0m\u001b[0m_decision_function\u001b[0m\u001b[1;33m(\u001b[0m\u001b[0mX\u001b[0m\u001b[1;33m)\u001b[0m\u001b[1;33m\u001b[0m\u001b[0m\n\u001b[0m\u001b[0;32m    269\u001b[0m \u001b[1;33m\u001b[0m\u001b[0m\n\u001b[0;32m    270\u001b[0m     \u001b[0m_preprocess_data\u001b[0m \u001b[1;33m=\u001b[0m \u001b[0mstaticmethod\u001b[0m\u001b[1;33m(\u001b[0m\u001b[0m_preprocess_data\u001b[0m\u001b[1;33m)\u001b[0m\u001b[1;33m\u001b[0m\u001b[0m\n",
      "\u001b[1;32mC:\\ProgramData\\Anaconda3\\lib\\site-packages\\sklearn\\linear_model\\base.py\u001b[0m in \u001b[0;36m_decision_function\u001b[1;34m(self, X)\u001b[0m\n\u001b[0;32m    247\u001b[0m \u001b[1;33m\u001b[0m\u001b[0m\n\u001b[0;32m    248\u001b[0m     \u001b[1;32mdef\u001b[0m \u001b[0m_decision_function\u001b[0m\u001b[1;33m(\u001b[0m\u001b[0mself\u001b[0m\u001b[1;33m,\u001b[0m \u001b[0mX\u001b[0m\u001b[1;33m)\u001b[0m\u001b[1;33m:\u001b[0m\u001b[1;33m\u001b[0m\u001b[0m\n\u001b[1;32m--> 249\u001b[1;33m         \u001b[0mcheck_is_fitted\u001b[0m\u001b[1;33m(\u001b[0m\u001b[0mself\u001b[0m\u001b[1;33m,\u001b[0m \u001b[1;34m\"coef_\"\u001b[0m\u001b[1;33m)\u001b[0m\u001b[1;33m\u001b[0m\u001b[0m\n\u001b[0m\u001b[0;32m    250\u001b[0m \u001b[1;33m\u001b[0m\u001b[0m\n\u001b[0;32m    251\u001b[0m         \u001b[0mX\u001b[0m \u001b[1;33m=\u001b[0m \u001b[0mcheck_array\u001b[0m\u001b[1;33m(\u001b[0m\u001b[0mX\u001b[0m\u001b[1;33m,\u001b[0m \u001b[0maccept_sparse\u001b[0m\u001b[1;33m=\u001b[0m\u001b[1;33m[\u001b[0m\u001b[1;34m'csr'\u001b[0m\u001b[1;33m,\u001b[0m \u001b[1;34m'csc'\u001b[0m\u001b[1;33m,\u001b[0m \u001b[1;34m'coo'\u001b[0m\u001b[1;33m]\u001b[0m\u001b[1;33m)\u001b[0m\u001b[1;33m\u001b[0m\u001b[0m\n",
      "\u001b[1;32mC:\\ProgramData\\Anaconda3\\lib\\site-packages\\sklearn\\utils\\validation.py\u001b[0m in \u001b[0;36mcheck_is_fitted\u001b[1;34m(estimator, attributes, msg, all_or_any)\u001b[0m\n\u001b[0;32m    688\u001b[0m     \u001b[1;32mif\u001b[0m \u001b[1;32mnot\u001b[0m \u001b[0mall_or_any\u001b[0m\u001b[1;33m(\u001b[0m\u001b[1;33m[\u001b[0m\u001b[0mhasattr\u001b[0m\u001b[1;33m(\u001b[0m\u001b[0mestimator\u001b[0m\u001b[1;33m,\u001b[0m \u001b[0mattr\u001b[0m\u001b[1;33m)\u001b[0m \u001b[1;32mfor\u001b[0m \u001b[0mattr\u001b[0m \u001b[1;32min\u001b[0m \u001b[0mattributes\u001b[0m\u001b[1;33m]\u001b[0m\u001b[1;33m)\u001b[0m\u001b[1;33m:\u001b[0m\u001b[1;33m\u001b[0m\u001b[0m\n\u001b[0;32m    689\u001b[0m         \u001b[1;31m# FIXME NotFittedError_ --> NotFittedError in 0.19\u001b[0m\u001b[1;33m\u001b[0m\u001b[1;33m\u001b[0m\u001b[0m\n\u001b[1;32m--> 690\u001b[1;33m         \u001b[1;32mraise\u001b[0m \u001b[0m_NotFittedError\u001b[0m\u001b[1;33m(\u001b[0m\u001b[0mmsg\u001b[0m \u001b[1;33m%\u001b[0m \u001b[1;33m{\u001b[0m\u001b[1;34m'name'\u001b[0m\u001b[1;33m:\u001b[0m \u001b[0mtype\u001b[0m\u001b[1;33m(\u001b[0m\u001b[0mestimator\u001b[0m\u001b[1;33m)\u001b[0m\u001b[1;33m.\u001b[0m\u001b[0m__name__\u001b[0m\u001b[1;33m}\u001b[0m\u001b[1;33m)\u001b[0m\u001b[1;33m\u001b[0m\u001b[0m\n\u001b[0m\u001b[0;32m    691\u001b[0m \u001b[1;33m\u001b[0m\u001b[0m\n\u001b[0;32m    692\u001b[0m \u001b[1;33m\u001b[0m\u001b[0m\n",
      "\u001b[1;31mNotFittedError\u001b[0m: This LinearRegression instance is not fitted yet. Call 'fit' with appropriate arguments before using this method."
     ]
    }
   ],
   "source": [
    "from sklearn import linear_model\n",
    "from sklearn.linear_model import LinearRegression\n",
    "import numpy as np\n",
    "regr=linear_model.LinearRegression()\n",
    "regr.predict([[1,2], [3,4]])"
   ]
  },
  {
   "cell_type": "code",
   "execution_count": 48,
   "metadata": {},
   "outputs": [
    {
     "data": {
      "text/plain": [
       "array([ 1.,  2.])"
      ]
     },
     "execution_count": 48,
     "metadata": {},
     "output_type": "execute_result"
    }
   ],
   "source": [
    "from sklearn import linear_model\n",
    "reg = linear_model.LinearRegression()\n",
    "X=np.array([[1, 1], [2, 2]])\n",
    "y=np.array([1, 2])\n",
    "reg.fit (X,y)\n",
    "\n",
    "reg.predict(X)\n"
   ]
  },
  {
   "cell_type": "code",
   "execution_count": 80,
   "metadata": {},
   "outputs": [
    {
     "data": {
      "image/png": "[encoded data removed]",
      "text/plain": [
       "<matplotlib.figure.Figure at 0x983dfd0>"
      ]
     },
     "metadata": {},
     "output_type": "display_data"
    }
   ],
   "source": [
    "from sklearn import linear_model\n",
    "from sklearn.model_selection import cross_val_predict\n",
    "import matplotlib.pyplot as plt\n",
    "import numpy as np\n",
    "\n",
    "reg = linear_model.LinearRegression()\n",
    "X = np.array([ [200,70,213 ], [100 ,800,11] ])\n",
    "y = np.array([2015,2016])\n",
    "\n",
    "reg.fit (X,y)\n",
    "per=reg.predict(X)\n",
    "\n",
    "#plt.plot(y,X, color='blue', linewidth=3)\n",
    "plt.scatter(y,per, edgecolors=(0, 0, 0))\n",
    "plt.plot(y,X,'ro')\n",
    "plt.show()\n"
   ]
  },
  {
   "cell_type": "code",
   "execution_count": 24,
   "metadata": {},
   "outputs": [
    {
     "name": "stdout",
     "output_type": "stream",
     "text": [
      "NotFittedError('This LinearSVC instance is not fitted yet',)\n"
     ]
    }
   ],
   "source": [
    "from sklearn.svm import LinearSVC\n",
    "from sklearn.exceptions import NotFittedError\n",
    "try:\n",
    "     LinearSVC().predict([[1, 2], [2, 3], [3, 4]])\n",
    "except NotFittedError as e:\n",
    "     print(repr(e))"
   ]
  },
  {
   "cell_type": "code",
   "execution_count": null,
   "metadata": {
    "collapsed": true
   },
   "outputs": [],
   "source": [
    "predicted = cross_val_predict(reg, X, y, cv=3)\n",
    "reg.coef_\n",
    "\n",
    "\n"
   ]
  },
  {
   "cell_type": "code",
   "execution_count": null,
   "metadata": {
    "collapsed": true
   },
   "outputs": [],
   "source": [
    "reg.intercept_ "
   ]
  },
  {
   "cell_type": "code",
   "execution_count": 7,
   "metadata": {
    "scrolled": true
   },
   "outputs": [
    {
     "ename": "NameError",
     "evalue": "name 'predicted' is not defined",
     "output_type": "error",
     "traceback": [
      "\u001b[1;31m---------------------------------------------------------------------------\u001b[0m",
      "\u001b[1;31mNameError\u001b[0m                                 Traceback (most recent call last)",
      "\u001b[1;32m<ipython-input-7-e673fccbeb57>\u001b[0m in \u001b[0;36m<module>\u001b[1;34m()\u001b[0m\n\u001b[1;32m----> 1\u001b[1;33m \u001b[0mplt\u001b[0m\u001b[1;33m.\u001b[0m\u001b[0mscatter\u001b[0m\u001b[1;33m(\u001b[0m\u001b[0my\u001b[0m\u001b[1;33m,\u001b[0m \u001b[0mpredicted\u001b[0m\u001b[1;33m,\u001b[0m \u001b[0medgecolors\u001b[0m\u001b[1;33m=\u001b[0m\u001b[1;33m(\u001b[0m\u001b[1;36m0\u001b[0m\u001b[1;33m,\u001b[0m \u001b[1;36m0\u001b[0m\u001b[1;33m,\u001b[0m \u001b[1;36m0\u001b[0m\u001b[1;33m)\u001b[0m\u001b[1;33m)\u001b[0m\u001b[1;33m\u001b[0m\u001b[0m\n\u001b[0m\u001b[0;32m      2\u001b[0m \u001b[0mplt\u001b[0m\u001b[1;33m.\u001b[0m\u001b[0mplot\u001b[0m\u001b[1;33m(\u001b[0m\u001b[0my\u001b[0m\u001b[1;33m,\u001b[0m\u001b[0mX\u001b[0m\u001b[1;33m,\u001b[0m\u001b[1;34m'ro'\u001b[0m\u001b[1;33m)\u001b[0m\u001b[1;33m\u001b[0m\u001b[0m\n\u001b[0;32m      3\u001b[0m \u001b[0mplt\u001b[0m\u001b[1;33m.\u001b[0m\u001b[0mshow\u001b[0m\u001b[1;33m(\u001b[0m\u001b[1;33m)\u001b[0m\u001b[1;33m\u001b[0m\u001b[0m\n",
      "\u001b[1;31mNameError\u001b[0m: name 'predicted' is not defined"
     ]
    }
   ],
   "source": [
    "plt.scatter(y, predicted, edgecolors=(0, 0, 0))\n",
    "plt.plot(y,X,'ro')\n",
    "plt.show()"
   ]
  },
  {
   "cell_type": "code",
   "execution_count": 102,
   "metadata": {},
   "outputs": [
    {
     "data": {
      "image/png": "[encoded data removed]",
      "text/plain": [
       "<matplotlib.figure.Figure at 0x98899b0>"
      ]
     },
     "metadata": {},
     "output_type": "display_data"
    }
   ],
   "source": [
    "from sklearn.linear_model import LinearRegression\n",
    "import numpy as np\n",
    "\n",
    "X = np.array([ [2.3,4.3,2.5], [1.3,5.2,5.2], [3.3,2.9,0.8], [3.1,4.3,4.0]  ])\n",
    "y = np.array([3.4,7.5,4.5,1.6])\n",
    "\n",
    "clf = LinearRegression(fit_intercept=True)\n",
    "clf.fit(X,y)\n",
    "\n",
    "predictionData = np.array([ [2.5,2.4,2.7]])\n",
    "clf.predict(predictionData)\n",
    "#plt.scatter(y,per, edgecolors=(0, 0, 0))\n",
    "plt.plot(y,X)\n",
    "plt.show()\n"
   ]
  },
  {
   "cell_type": "code",
   "execution_count": 88,
   "metadata": {},
   "outputs": [
    {
     "ename": "ValueError",
     "evalue": "x and y must have same first dimension, but have shapes (4,) and (2,)",
     "output_type": "error",
     "traceback": [
      "\u001b[1;31m---------------------------------------------------------------------------\u001b[0m",
      "\u001b[1;31mValueError\u001b[0m                                Traceback (most recent call last)",
      "\u001b[1;32m<ipython-input-88-bc71cb5ebf71>\u001b[0m in \u001b[0;36m<module>\u001b[1;34m()\u001b[0m\n\u001b[1;32m----> 1\u001b[1;33m \u001b[0mplt\u001b[0m\u001b[1;33m.\u001b[0m\u001b[0mplot\u001b[0m\u001b[1;33m(\u001b[0m\u001b[0my\u001b[0m\u001b[1;33m,\u001b[0m\u001b[0mper\u001b[0m\u001b[1;33m,\u001b[0m\u001b[1;34m'ro'\u001b[0m\u001b[1;33m)\u001b[0m\u001b[1;33m\u001b[0m\u001b[0m\n\u001b[0m\u001b[0;32m      2\u001b[0m \u001b[0mplt\u001b[0m\u001b[1;33m.\u001b[0m\u001b[0mshow\u001b[0m\u001b[1;33m(\u001b[0m\u001b[1;33m)\u001b[0m\u001b[1;33m\u001b[0m\u001b[0m\n",
      "\u001b[1;32mC:\\ProgramData\\Anaconda3\\lib\\site-packages\\matplotlib\\pyplot.py\u001b[0m in \u001b[0;36mplot\u001b[1;34m(*args, **kwargs)\u001b[0m\n\u001b[0;32m   3315\u001b[0m                       mplDeprecation)\n\u001b[0;32m   3316\u001b[0m     \u001b[1;32mtry\u001b[0m\u001b[1;33m:\u001b[0m\u001b[1;33m\u001b[0m\u001b[0m\n\u001b[1;32m-> 3317\u001b[1;33m         \u001b[0mret\u001b[0m \u001b[1;33m=\u001b[0m \u001b[0max\u001b[0m\u001b[1;33m.\u001b[0m\u001b[0mplot\u001b[0m\u001b[1;33m(\u001b[0m\u001b[1;33m*\u001b[0m\u001b[0margs\u001b[0m\u001b[1;33m,\u001b[0m \u001b[1;33m**\u001b[0m\u001b[0mkwargs\u001b[0m\u001b[1;33m)\u001b[0m\u001b[1;33m\u001b[0m\u001b[0m\n\u001b[0m\u001b[0;32m   3318\u001b[0m     \u001b[1;32mfinally\u001b[0m\u001b[1;33m:\u001b[0m\u001b[1;33m\u001b[0m\u001b[0m\n\u001b[0;32m   3319\u001b[0m         \u001b[0max\u001b[0m\u001b[1;33m.\u001b[0m\u001b[0m_hold\u001b[0m \u001b[1;33m=\u001b[0m \u001b[0mwashold\u001b[0m\u001b[1;33m\u001b[0m\u001b[0m\n",
      "\u001b[1;32mC:\\ProgramData\\Anaconda3\\lib\\site-packages\\matplotlib\\__init__.py\u001b[0m in \u001b[0;36minner\u001b[1;34m(ax, *args, **kwargs)\u001b[0m\n\u001b[0;32m   1895\u001b[0m                     warnings.warn(msg % (label_namer, func.__name__),\n\u001b[0;32m   1896\u001b[0m                                   RuntimeWarning, stacklevel=2)\n\u001b[1;32m-> 1897\u001b[1;33m             \u001b[1;32mreturn\u001b[0m \u001b[0mfunc\u001b[0m\u001b[1;33m(\u001b[0m\u001b[0max\u001b[0m\u001b[1;33m,\u001b[0m \u001b[1;33m*\u001b[0m\u001b[0margs\u001b[0m\u001b[1;33m,\u001b[0m \u001b[1;33m**\u001b[0m\u001b[0mkwargs\u001b[0m\u001b[1;33m)\u001b[0m\u001b[1;33m\u001b[0m\u001b[0m\n\u001b[0m\u001b[0;32m   1898\u001b[0m         \u001b[0mpre_doc\u001b[0m \u001b[1;33m=\u001b[0m \u001b[0minner\u001b[0m\u001b[1;33m.\u001b[0m\u001b[0m__doc__\u001b[0m\u001b[1;33m\u001b[0m\u001b[0m\n\u001b[0;32m   1899\u001b[0m         \u001b[1;32mif\u001b[0m \u001b[0mpre_doc\u001b[0m \u001b[1;32mis\u001b[0m \u001b[1;32mNone\u001b[0m\u001b[1;33m:\u001b[0m\u001b[1;33m\u001b[0m\u001b[0m\n",
      "\u001b[1;32mC:\\ProgramData\\Anaconda3\\lib\\site-packages\\matplotlib\\axes\\_axes.py\u001b[0m in \u001b[0;36mplot\u001b[1;34m(self, *args, **kwargs)\u001b[0m\n\u001b[0;32m   1404\u001b[0m         \u001b[0mkwargs\u001b[0m \u001b[1;33m=\u001b[0m \u001b[0mcbook\u001b[0m\u001b[1;33m.\u001b[0m\u001b[0mnormalize_kwargs\u001b[0m\u001b[1;33m(\u001b[0m\u001b[0mkwargs\u001b[0m\u001b[1;33m,\u001b[0m \u001b[0m_alias_map\u001b[0m\u001b[1;33m)\u001b[0m\u001b[1;33m\u001b[0m\u001b[0m\n\u001b[0;32m   1405\u001b[0m \u001b[1;33m\u001b[0m\u001b[0m\n\u001b[1;32m-> 1406\u001b[1;33m         \u001b[1;32mfor\u001b[0m \u001b[0mline\u001b[0m \u001b[1;32min\u001b[0m \u001b[0mself\u001b[0m\u001b[1;33m.\u001b[0m\u001b[0m_get_lines\u001b[0m\u001b[1;33m(\u001b[0m\u001b[1;33m*\u001b[0m\u001b[0margs\u001b[0m\u001b[1;33m,\u001b[0m \u001b[1;33m**\u001b[0m\u001b[0mkwargs\u001b[0m\u001b[1;33m)\u001b[0m\u001b[1;33m:\u001b[0m\u001b[1;33m\u001b[0m\u001b[0m\n\u001b[0m\u001b[0;32m   1407\u001b[0m             \u001b[0mself\u001b[0m\u001b[1;33m.\u001b[0m\u001b[0madd_line\u001b[0m\u001b[1;33m(\u001b[0m\u001b[0mline\u001b[0m\u001b[1;33m)\u001b[0m\u001b[1;33m\u001b[0m\u001b[0m\n\u001b[0;32m   1408\u001b[0m             \u001b[0mlines\u001b[0m\u001b[1;33m.\u001b[0m\u001b[0mappend\u001b[0m\u001b[1;33m(\u001b[0m\u001b[0mline\u001b[0m\u001b[1;33m)\u001b[0m\u001b[1;33m\u001b[0m\u001b[0m\n",
      "\u001b[1;32mC:\\ProgramData\\Anaconda3\\lib\\site-packages\\matplotlib\\axes\\_base.py\u001b[0m in \u001b[0;36m_grab_next_args\u001b[1;34m(self, *args, **kwargs)\u001b[0m\n\u001b[0;32m    405\u001b[0m                 \u001b[1;32mreturn\u001b[0m\u001b[1;33m\u001b[0m\u001b[0m\n\u001b[0;32m    406\u001b[0m             \u001b[1;32mif\u001b[0m \u001b[0mlen\u001b[0m\u001b[1;33m(\u001b[0m\u001b[0mremaining\u001b[0m\u001b[1;33m)\u001b[0m \u001b[1;33m<=\u001b[0m \u001b[1;36m3\u001b[0m\u001b[1;33m:\u001b[0m\u001b[1;33m\u001b[0m\u001b[0m\n\u001b[1;32m--> 407\u001b[1;33m                 \u001b[1;32mfor\u001b[0m \u001b[0mseg\u001b[0m \u001b[1;32min\u001b[0m \u001b[0mself\u001b[0m\u001b[1;33m.\u001b[0m\u001b[0m_plot_args\u001b[0m\u001b[1;33m(\u001b[0m\u001b[0mremaining\u001b[0m\u001b[1;33m,\u001b[0m \u001b[0mkwargs\u001b[0m\u001b[1;33m)\u001b[0m\u001b[1;33m:\u001b[0m\u001b[1;33m\u001b[0m\u001b[0m\n\u001b[0m\u001b[0;32m    408\u001b[0m                     \u001b[1;32myield\u001b[0m \u001b[0mseg\u001b[0m\u001b[1;33m\u001b[0m\u001b[0m\n\u001b[0;32m    409\u001b[0m                 \u001b[1;32mreturn\u001b[0m\u001b[1;33m\u001b[0m\u001b[0m\n",
      "\u001b[1;32mC:\\ProgramData\\Anaconda3\\lib\\site-packages\\matplotlib\\axes\\_base.py\u001b[0m in \u001b[0;36m_plot_args\u001b[1;34m(self, tup, kwargs)\u001b[0m\n\u001b[0;32m    383\u001b[0m             \u001b[0mx\u001b[0m\u001b[1;33m,\u001b[0m \u001b[0my\u001b[0m \u001b[1;33m=\u001b[0m \u001b[0mindex_of\u001b[0m\u001b[1;33m(\u001b[0m\u001b[0mtup\u001b[0m\u001b[1;33m[\u001b[0m\u001b[1;33m-\u001b[0m\u001b[1;36m1\u001b[0m\u001b[1;33m]\u001b[0m\u001b[1;33m)\u001b[0m\u001b[1;33m\u001b[0m\u001b[0m\n\u001b[0;32m    384\u001b[0m \u001b[1;33m\u001b[0m\u001b[0m\n\u001b[1;32m--> 385\u001b[1;33m         \u001b[0mx\u001b[0m\u001b[1;33m,\u001b[0m \u001b[0my\u001b[0m \u001b[1;33m=\u001b[0m \u001b[0mself\u001b[0m\u001b[1;33m.\u001b[0m\u001b[0m_xy_from_xy\u001b[0m\u001b[1;33m(\u001b[0m\u001b[0mx\u001b[0m\u001b[1;33m,\u001b[0m \u001b[0my\u001b[0m\u001b[1;33m)\u001b[0m\u001b[1;33m\u001b[0m\u001b[0m\n\u001b[0m\u001b[0;32m    386\u001b[0m \u001b[1;33m\u001b[0m\u001b[0m\n\u001b[0;32m    387\u001b[0m         \u001b[1;32mif\u001b[0m \u001b[0mself\u001b[0m\u001b[1;33m.\u001b[0m\u001b[0mcommand\u001b[0m \u001b[1;33m==\u001b[0m \u001b[1;34m'plot'\u001b[0m\u001b[1;33m:\u001b[0m\u001b[1;33m\u001b[0m\u001b[0m\n",
      "\u001b[1;32mC:\\ProgramData\\Anaconda3\\lib\\site-packages\\matplotlib\\axes\\_base.py\u001b[0m in \u001b[0;36m_xy_from_xy\u001b[1;34m(self, x, y)\u001b[0m\n\u001b[0;32m    242\u001b[0m         \u001b[1;32mif\u001b[0m \u001b[0mx\u001b[0m\u001b[1;33m.\u001b[0m\u001b[0mshape\u001b[0m\u001b[1;33m[\u001b[0m\u001b[1;36m0\u001b[0m\u001b[1;33m]\u001b[0m \u001b[1;33m!=\u001b[0m \u001b[0my\u001b[0m\u001b[1;33m.\u001b[0m\u001b[0mshape\u001b[0m\u001b[1;33m[\u001b[0m\u001b[1;36m0\u001b[0m\u001b[1;33m]\u001b[0m\u001b[1;33m:\u001b[0m\u001b[1;33m\u001b[0m\u001b[0m\n\u001b[0;32m    243\u001b[0m             raise ValueError(\"x and y must have same first dimension, but \"\n\u001b[1;32m--> 244\u001b[1;33m                              \"have shapes {} and {}\".format(x.shape, y.shape))\n\u001b[0m\u001b[0;32m    245\u001b[0m         \u001b[1;32mif\u001b[0m \u001b[0mx\u001b[0m\u001b[1;33m.\u001b[0m\u001b[0mndim\u001b[0m \u001b[1;33m>\u001b[0m \u001b[1;36m2\u001b[0m \u001b[1;32mor\u001b[0m \u001b[0my\u001b[0m\u001b[1;33m.\u001b[0m\u001b[0mndim\u001b[0m \u001b[1;33m>\u001b[0m \u001b[1;36m2\u001b[0m\u001b[1;33m:\u001b[0m\u001b[1;33m\u001b[0m\u001b[0m\n\u001b[0;32m    246\u001b[0m             raise ValueError(\"x and y can be no greater than 2-D, but have \"\n",
      "\u001b[1;31mValueError\u001b[0m: x and y must have same first dimension, but have shapes (4,) and (2,)"
     ]
    }
   ],
   "source": [
    "plt.plot(y,per,'ro')\n",
    "plt.show()\n"
   ]
  },
  {
   "cell_type": "code",
   "execution_count": 50,
   "metadata": {},
   "outputs": [
    {
     "name": "stdout",
     "output_type": "stream",
     "text": [
      "Epoch: 0050 cost= nan W= nan b= nan\n",
      "Epoch: 0100 cost= nan W= nan b= nan\n",
      "Epoch: 0150 cost= nan W= nan b= nan\n",
      "Epoch: 0200 cost= nan W= nan b= nan\n",
      "Epoch: 0250 cost= nan W= nan b= nan\n",
      "Epoch: 0300 cost= nan W= nan b= nan\n",
      "Epoch: 0350 cost= nan W= nan b= nan\n",
      "Epoch: 0400 cost= nan W= nan b= nan\n",
      "Epoch: 0450 cost= nan W= nan b= nan\n",
      "Epoch: 0500 cost= nan W= nan b= nan\n",
      "Epoch: 0550 cost= nan W= nan b= nan\n",
      "Epoch: 0600 cost= nan W= nan b= nan\n",
      "Epoch: 0650 cost= nan W= nan b= nan\n",
      "Epoch: 0700 cost= nan W= nan b= nan\n",
      "Epoch: 0750 cost= nan W= nan b= nan\n",
      "Epoch: 0800 cost= nan W= nan b= nan\n",
      "Epoch: 0850 cost= nan W= nan b= nan\n",
      "Epoch: 0900 cost= nan W= nan b= nan\n",
      "Epoch: 0950 cost= nan W= nan b= nan\n",
      "Epoch: 1000 cost= nan W= nan b= nan\n",
      "Optimization Finished!\n",
      "Training cost= nan W= nan b= nan \n",
      "\n"
     ]
    },
    {
     "data": {
      "image/png": "[encoded data removed]",
      "text/plain": [
       "<matplotlib.figure.Figure at 0xf5a12b0>"
      ]
     },
     "metadata": {},
     "output_type": "display_data"
    }
   ],
   "source": [
    "from __future__ import print_function\n",
    "import os\n",
    "os.environ['TF_CPP_MIN_LOG_LEVEL']='2'\n",
    "import tensorflow as tf\n",
    "import numpy\n",
    "import matplotlib.pyplot as plt\n",
    "rng = numpy.random\n",
    "\n",
    "# Parameters\n",
    "learning_rate = 0.01\n",
    "training_epochs = 1000\n",
    "display_step = 50\n",
    "\n",
    "# Training Data\n",
    "train_X = numpy.asarray([20000,4])\n",
    "train_Y = numpy.asarray([20,2])\n",
    "n_samples = train_X.shape[0]\n",
    "\n",
    "# tf Graph Input\n",
    "X = tf.placeholder(\"float\")\n",
    "Y = tf.placeholder(\"float\")\n",
    "\n",
    "# Set model weights\n",
    "W = tf.Variable(rng.randn(), name=\"weight\")\n",
    "b = tf.Variable(rng.randn(), name=\"bias\")\n",
    "\n",
    "# Construct a linear model\n",
    "pred = tf.add(tf.multiply(X, W), b)\n",
    "\n",
    "# Mean squared error\n",
    "cost = tf.reduce_sum(tf.pow(pred-Y, 2))/(2*n_samples)\n",
    "# Gradient descent\n",
    "#  Note, minimize() knows to modify W and b because Variable objects are trainable=True by default\n",
    "optimizer = tf.train.GradientDescentOptimizer(learning_rate).minimize(cost)\n",
    "\n",
    "# Initializing the variables\n",
    "init = tf.global_variables_initializer()\n",
    "\n",
    "# Launch the graph\n",
    "with tf.Session() as sess:\n",
    "    sess.run(init)\n",
    "\n",
    "    # Fit all training data\n",
    "    for epoch in range(training_epochs):\n",
    "        for (x, y) in zip(train_X, train_Y):\n",
    "            sess.run(optimizer, feed_dict={X: x, Y: y})\n",
    "\n",
    "        # Display logs per epoch step\n",
    "        if (epoch+1) % display_step == 0:\n",
    "            c = sess.run(cost, feed_dict={X: train_X, Y:train_Y})\n",
    "            print(\"Epoch:\", '%04d' % (epoch+1), \"cost=\", \"{:.9f}\".format(c), \\\n",
    "                \"W=\", sess.run(W), \"b=\", sess.run(b))\n",
    "\n",
    "    print(\"Optimization Finished!\")\n",
    "    training_cost = sess.run(cost, feed_dict={X: train_X, Y: train_Y})\n",
    "    print(\"Training cost=\", training_cost, \"W=\", sess.run(W), \"b=\", sess.run(b), '\\n')\n",
    "\n",
    "    # Graphic display\n",
    "    plt.plot(train_X, train_Y, 'ro', label='Original data')\n",
    "    plt.plot(train_X, sess.run(W) * train_X + sess.run(b), label='Fitted line')\n",
    "    plt.legend()\n",
    "    plt.show()\n"
   ]
  },
  {
   "cell_type": "code",
   "execution_count": 104,
   "metadata": {},
   "outputs": [
    {
     "data": {
      "image/png": "[encoded data removed]",
      "text/plain": [
       "<matplotlib.figure.Figure at 0xe2043c8>"
      ]
     },
     "metadata": {},
     "output_type": "display_data"
    }
   ],
   "source": [
    "from sklearn import datasets\n",
    "from sklearn.model_selection import cross_val_predict\n",
    "from sklearn import linear_model\n",
    "import matplotlib.pyplot as plt\n",
    "\n",
    "lr = linear_model.LinearRegression()\n",
    "boston = datasets.load_boston()\n",
    "y = boston.target\n",
    "\n",
    "# cross_val_predict returns an array of the same size as `y` where each entry\n",
    "# is a prediction obtained by cross validation:\n",
    "predicted = cross_val_predict(lr, boston.data, y, cv=10)\n",
    "\n",
    "fig, ax = plt.subplots()\n",
    "ax.scatter(y, predicted, edgecolors=(0, 0, 0))\n",
    "ax.plot([y.min(), y.max()], [y.min(), y.max()], 'k--', lw=4)\n",
    "ax.set_xlabel('Measured')\n",
    "ax.set_ylabel('Predicted')\n",
    "plt.show()"
   ]
  },
  {
   "cell_type": "code",
   "execution_count": 5,
   "metadata": {},
   "outputs": [
    {
     "data": {
      "text/plain": [
       "array([1, 2, 3])"
      ]
     },
     "execution_count": 5,
     "metadata": {},
     "output_type": "execute_result"
    }
   ],
   "source": [
    "import numpy as np\n",
    "my = [1,2,3]\n",
    "x=np.array(my)\n",
    "x\n"
   ]
  },
  {
   "cell_type": "code",
   "execution_count": 7,
   "metadata": {},
   "outputs": [
    {
     "data": {
      "text/plain": [
       "1"
      ]
     },
     "execution_count": 7,
     "metadata": {},
     "output_type": "execute_result"
    }
   ],
   "source": [
    "x.sum()\n",
    "x.min()"
   ]
  },
  {
   "cell_type": "code",
   "execution_count": 8,
   "metadata": {
    "collapsed": true
   },
   "outputs": [],
   "source": [
    "class Person:\n",
    "    department = 'Computer science'\n",
    "    \n",
    "    def set_name(self,new_name):\n",
    "        self.name=new_name\n",
    "    def set_location(self,new_location):\n",
    "        self.location= new_location"
   ]
  },
  {
   "cell_type": "code",
   "execution_count": 11,
   "metadata": {},
   "outputs": [
    {
     "name": "stdout",
     "output_type": "stream",
     "text": [
      "umer live in karachi,malir,model and works in the department () \n"
     ]
    }
   ],
   "source": [
    "person = Person()\n",
    "person.set_name('umer')\n",
    "person.set_location('karachi,malir,model')\n",
    "print('{} live in {} and works in the department () '.format(person.name , person.location , person.department))"
   ]
  },
  {
   "cell_type": "code",
   "execution_count": null,
   "metadata": {
    "collapsed": true
   },
   "outputs": [],
   "source": []
  }
 ],
 "metadata": {
  "kernelspec": {
   "display_name": "Python 3",
   "language": "python",
   "name": "python3"
  },
  "language_info": {
   "codemirror_mode": {
    "name": "ipython",
    "version": 3
   },
   "file_extension": ".py",
   "mimetype": "text/x-python",
   "name": "python",
   "nbconvert_exporter": "python",
   "pygments_lexer": "ipython3",
   "version": "3.6.1"
  }
 },
 "nbformat": 4,
 "nbformat_minor": 2
}
